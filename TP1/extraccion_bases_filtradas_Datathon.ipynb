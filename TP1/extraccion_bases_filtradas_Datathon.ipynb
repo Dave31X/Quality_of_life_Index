{
  "nbformat": 4,
  "nbformat_minor": 0,
  "metadata": {
    "colab": {
      "provenance": [],
      "mount_file_id": "14lWmcgBlUTbXRayVbRbteAThlz_h1eE5",
      "authorship_tag": "ABX9TyOlWQZr4Beb/9l8WHYaqgMH",
      "include_colab_link": true
    },
    "kernelspec": {
      "name": "python3",
      "display_name": "Python 3"
    },
    "language_info": {
      "name": "python"
    }
  },
  "cells": [
    {
      "cell_type": "markdown",
      "metadata": {
        "id": "view-in-github",
        "colab_type": "text"
      },
      "source": [
        "<a href=\"https://colab.research.google.com/github/Dave31X/Quality_of_life_Index/blob/main/TP1/extraccion_bases_filtradas_Datathon.ipynb\" target=\"_parent\"><img src=\"https://colab.research.google.com/assets/colab-badge.svg\" alt=\"Open In Colab\"/></a>"
      ]
    },
    {
      "cell_type": "code",
      "source": [
        "from google.colab import drive\n",
        "drive.mount('/content/drive')"
      ],
      "metadata": {
        "colab": {
          "base_uri": "https://localhost:8080/"
        },
        "id": "D5rl86WuE0DQ",
        "outputId": "678eb2f0-9fb3-41bf-e098-7adc6b699211"
      },
      "execution_count": 1,
      "outputs": [
        {
          "output_type": "stream",
          "name": "stdout",
          "text": [
            "Drive already mounted at /content/drive; to attempt to forcibly remount, call drive.mount(\"/content/drive\", force_remount=True).\n"
          ]
        }
      ]
    },
    {
      "cell_type": "code",
      "source": [
        "import numpy as np\n",
        "import pandas as pd\n",
        "import matplotlib.pyplot as plt\n",
        "import seaborn as sns\n",
        "import plotly.graph_objects as go\n",
        "import plotly.express as px\n",
        "import os"
      ],
      "metadata": {
        "id": "-mSI4BaLE_7d"
      },
      "execution_count": 2,
      "outputs": []
    },
    {
      "cell_type": "code",
      "execution_count": 3,
      "metadata": {
        "colab": {
          "base_uri": "https://localhost:8080/"
        },
        "id": "zGJb8ig1EJtW",
        "outputId": "65ea253e-c3bb-4ed4-f554-8eca60cd4510"
      },
      "outputs": [
        {
          "output_type": "stream",
          "name": "stdout",
          "text": [
            "[  1   2   4  21  30  31  34  36  38  40  42  44  45  51  55  59  79  86\n",
            "  88  91  93 101 107 113 120 125 129 134 138 142 145 147 148 150 154 172\n",
            " 190 197 206 209 212 234 237 240 250 264 266 282 284 306 308 310 313 315\n",
            " 318 321 347 353 360 361 364 368 376 380 390 400 411 425 440 467 475 480\n",
            " 483 490 495 501 541 543 576 579 585 591 604 607 615 628 631 642 647 649\n",
            " 652 656 658 659 660 664 665 667 670 674 679 686 690 697 736 756 761 789\n",
            " 790 792 809 819 837 842 847 854 856 858 861 873 885 887 890 893 895]\n"
          ]
        }
      ],
      "source": [
        "ruta_archivo = '/content/drive/MyDrive/datathon/datos base/MNG_og.CSV'\n",
        "base_datos = pd.read_csv(ruta_archivo, encoding='latin1')\n",
        "print(base_datos['U_MPIO'].unique())"
      ]
    },
    {
      "cell_type": "code",
      "source": [
        "ruta_MNG_og = '/content/drive/MyDrive/datathon/datos base/MNG_og.CSV'\n",
        "df_MNG_og = pd.read_csv(ruta_MNG_og, encoding='latin1')\n",
        "\n",
        "filtroMNG = df_MNG_og[df_MNG_og['U_MPIO'] == 1]\n",
        "\n",
        "ruta_guardado_MNG = '/content/drive/MyDrive/datathon/filtered_data/MNG_filtro_mun.CSV'\n",
        "filtroMNG.to_csv(ruta_guardado_MNG, index=False)\n",
        "\n",
        "print(f\"Archivo filtrado guardado correctamente con {filtroMNG.shape[0]} filas.\")\n",
        "\n",
        "num_filasMNG_og = df_MNG_og.shape[0]\n",
        "print(f\"El archivo tiene original: {num_filasMNG_og} filas.\")"
      ],
      "metadata": {
        "colab": {
          "base_uri": "https://localhost:8080/"
        },
        "id": "xHOOjesBKYiu",
        "outputId": "4154f279-c106-40b0-d822-3fd02f27f203"
      },
      "execution_count": 4,
      "outputs": [
        {
          "output_type": "stream",
          "name": "stdout",
          "text": [
            "Archivo filtrado guardado correctamente con 892921 filas.\n",
            "El archivo tiene original: 2324080 filas.\n"
          ]
        }
      ]
    },
    {
      "cell_type": "code",
      "source": [
        "ruta_arcgis_og = '/content/drive/MyDrive/datathon/datos base/argis_comas.csv'\n",
        "df_arcgis_og = pd.read_csv(ruta_arcgis_og, encoding='latin1')\n",
        "\n",
        "filtro_arcgis = df_arcgis_og[df_arcgis_og['MPIO_CCDGO'] == 1]\n",
        "\n",
        "ruta_guardado_arcgis = '/content/drive/MyDrive/datathon/filtered_data/arcgis_filtro_mun.CSV'\n",
        "filtro_arcgis.to_csv(ruta_guardado_arcgis, index=False)\n",
        "\n",
        "print(f\"Archivo filtrado guardado correctamente con {filtro_arcgis.shape[0]} filas.\")\n",
        "\n",
        "num_filas_arcgis_og = df_arcgis_og.shape[0]\n",
        "print(f\"El archivo tiene original: {num_filas_arcgis_og} filas.\")"
      ],
      "metadata": {
        "colab": {
          "base_uri": "https://localhost:8080/"
        },
        "id": "4sPYmbj_cxIW",
        "outputId": "5db2f9c0-fe6d-4aa1-a111-2cfec9060083"
      },
      "execution_count": 5,
      "outputs": [
        {
          "output_type": "stream",
          "name": "stderr",
          "text": [
            "<ipython-input-5-da1526b2fd42>:2: DtypeWarning: Columns (15,104) have mixed types. Specify dtype option on import or set low_memory=False.\n",
            "  df_arcgis_og = pd.read_csv(ruta_arcgis_og, encoding='latin1')\n"
          ]
        },
        {
          "output_type": "stream",
          "name": "stdout",
          "text": [
            "Archivo filtrado guardado correctamente con 185175 filas.\n",
            "El archivo tiene original: 504996 filas.\n"
          ]
        }
      ]
    },
    {
      "cell_type": "code",
      "source": [
        "ruta_vivienda_og = '/content/drive/MyDrive/datathon/datos base/vivienda_og.CSV'\n",
        "\n",
        "df_vivienda_og = pd.read_csv(ruta_vivienda_og, encoding='latin1')\n",
        "\n",
        "filtro_vivienda = df_vivienda_og[df_vivienda_og['U_MPIO'] == 1]\n",
        "\n",
        "ruta_guardado_vivienda = '/content/drive/MyDrive/datathon/filtered_data/vivienda_filtro_mun.CSV'\n",
        "filtro_vivienda.to_csv(ruta_guardado_vivienda, index=False)\n",
        "\n",
        "print(f\"Archivo filtrado guardado correctamente con {filtro_vivienda.shape[0]} filas.\")\n",
        "\n",
        "num_filas_vivienda_og = df_vivienda_og.shape[0]\n",
        "print(f\"El archivo original tiene: {num_filas_vivienda_og} filas.\")"
      ],
      "metadata": {
        "colab": {
          "base_uri": "https://localhost:8080/"
        },
        "id": "8mOE4jaRgYzX",
        "outputId": "c84d392f-a22b-4f23-d31a-c7ce2faace77"
      },
      "execution_count": 6,
      "outputs": [
        {
          "output_type": "stream",
          "name": "stdout",
          "text": [
            "Archivo filtrado guardado correctamente con 892921 filas.\n",
            "El archivo original tiene: 2324080 filas.\n"
          ]
        }
      ]
    },
    {
      "cell_type": "code",
      "source": [
        "ruta_personas_og = '/content/drive/MyDrive/datathon/datos base/personas_og.CSV'\n",
        "\n",
        "df_personas_og = pd.read_csv(ruta_personas_og, encoding='latin1')\n",
        "\n",
        "filtro_personas = df_personas_og[df_personas_og['U_MPIO'] == 1]\n",
        "\n",
        "ruta_guardado_personas = '/content/drive/MyDrive/datathon/filtered_data/personas_filtro_mun.CSV'\n",
        "filtro_personas.to_csv(ruta_guardado_personas, index=False)\n",
        "\n",
        "print(f\"Archivo filtrado guardado correctamente con {filtro_personas.shape[0]} filas.\")\n",
        "\n",
        "num_filas_personas_og = df_personas_og.shape[0]\n",
        "print(f\"El archivo original tiene: {num_filas_personas_og} filas.\")"
      ],
      "metadata": {
        "colab": {
          "base_uri": "https://localhost:8080/"
        },
        "id": "-SdsdNAPhUka",
        "outputId": "b4fe1cb7-ef94-4df4-9404-ee9814ad810c"
      },
      "execution_count": 7,
      "outputs": [
        {
          "output_type": "stream",
          "name": "stdout",
          "text": [
            "Archivo filtrado guardado correctamente con 2372330 filas.\n",
            "El archivo original tiene: 5974788 filas.\n"
          ]
        }
      ]
    },
    {
      "cell_type": "code",
      "source": [
        "import pandas as pd\n",
        "\n",
        "# Ruta del archivo de personas filtradas\n",
        "personas_filtro_mun = '/content/drive/MyDrive/datathon/filtered_data/personas_filtro_mun.CSV'\n",
        "\n",
        "# Cargar la base de datos\n",
        "dfpersonas_filtro_mun = pd.read_csv(personas_filtro_mun, encoding='latin1')\n",
        "\n",
        "# Seleccionar únicamente las columnas necesarias\n",
        "columnas_necesarias = ['COD_ENCUESTAS', 'P_ALFABETA', 'P_NIVEL_ANOSR', 'PA_ASISTENCIA', 'PA1_CALIDAD_SERV', 'P_TRABAJO']\n",
        "df_seleccion = dfpersonas_filtro_mun[columnas_necesarias]\n",
        "\n",
        "# Guardar la nueva base de datos con las columnas seleccionadas\n",
        "ruta_guardado_seleccion = '/content/drive/MyDrive/datathon/filtered_data/personas_seleccion_mun.CSV'\n",
        "df_seleccion.to_csv(ruta_guardado_seleccion, index=False)\n",
        "\n",
        "print(\"Archivo con columnas seleccionadas guardado correctamente.\")\n"
      ],
      "metadata": {
        "colab": {
          "base_uri": "https://localhost:8080/"
        },
        "id": "oWYr0Zp4j7bt",
        "outputId": "bc49ddd0-37c7-4d1c-f2b0-8cac521bb5c5"
      },
      "execution_count": 8,
      "outputs": [
        {
          "output_type": "stream",
          "name": "stdout",
          "text": [
            "Archivo con columnas seleccionadas guardado correctamente.\n"
          ]
        }
      ]
    },
    {
      "cell_type": "code",
      "source": [
        "df_personas_redu=pd.read_csv('/content/drive/MyDrive/datathon/filtered_data/personas_seleccion_mun.CSV')"
      ],
      "metadata": {
        "id": "fZJXBKT0vXlC"
      },
      "execution_count": 9,
      "outputs": []
    },
    {
      "cell_type": "code",
      "source": [
        "df_personas_redu['P_ALFABETA_CLAS'] = df_personas_redu['P_ALFABETA'].apply(\n",
        "    lambda x: 1 if x == 1 else 0 if x == 2 else 0\n",
        ")\n",
        "\n",
        "print(\"Clasificación de P_ALFABETA completada.\")\n"
      ],
      "metadata": {
        "colab": {
          "base_uri": "https://localhost:8080/"
        },
        "id": "Rud1-nQ6vPQ-",
        "outputId": "b5015989-21fd-43ca-964d-c2af8f46d6f9"
      },
      "execution_count": 10,
      "outputs": [
        {
          "output_type": "stream",
          "name": "stdout",
          "text": [
            "Clasificación de P_ALFABETA completada.\n"
          ]
        }
      ]
    },
    {
      "cell_type": "code",
      "source": [
        "# Clasificación para P_NIVEL_ANOSR\n",
        "nivel_mapping = {\n",
        "    1: 0, 2: 0.2, 3: 0.4, 4: 0.5, 5: 0.6,\n",
        "    6: 0.7, 7: 0.8, 8: 0.9, 9: 0.95, 10: 1\n",
        "}\n",
        "df_personas_redu['P_NIVEL_ANOSR_CLAS'] = df_personas_redu['P_NIVEL_ANOSR'].apply(\n",
        "    lambda x: nivel_mapping.get(x, 0)\n",
        ")\n",
        "\n",
        "print(\"Clasificación de P_NIVEL_ANOSR completada.\")\n"
      ],
      "metadata": {
        "colab": {
          "base_uri": "https://localhost:8080/"
        },
        "id": "nQrjdUervi0u",
        "outputId": "7b46c218-0aa5-4f07-d4b4-fcb85a12a653"
      },
      "execution_count": 11,
      "outputs": [
        {
          "output_type": "stream",
          "name": "stdout",
          "text": [
            "Clasificación de P_NIVEL_ANOSR completada.\n"
          ]
        }
      ]
    },
    {
      "cell_type": "code",
      "source": [
        "# Clasificación para PA_ASISTENCIA\n",
        "df_personas_redu['PA_ASISTENCIA_CLAS'] = df_personas_redu['PA_ASISTENCIA'].apply(\n",
        "    lambda x: 1 if x == 1 else 0 if x == 2 else 0\n",
        ")\n",
        "\n",
        "print(\"Clasificación de PA_ASISTENCIA completada.\")"
      ],
      "metadata": {
        "colab": {
          "base_uri": "https://localhost:8080/"
        },
        "id": "j-EmcpLxv3rK",
        "outputId": "0f26a8fb-b473-4acd-f34f-1105c1a2f95e"
      },
      "execution_count": 12,
      "outputs": [
        {
          "output_type": "stream",
          "name": "stdout",
          "text": [
            "Clasificación de PA_ASISTENCIA completada.\n"
          ]
        }
      ]
    },
    {
      "cell_type": "code",
      "source": [
        "# Clasificación para PA1_CALIDAD_SERV\n",
        "calidad_mapping = {\n",
        "    1: 1, 2: 0.8, 3: 0.5, 4: 0.2, 5: 0\n",
        "}\n",
        "df_personas_redu['PA1_CALIDAD_SERV_CLAS'] = df_personas_redu['PA1_CALIDAD_SERV'].apply(\n",
        "    lambda x: calidad_mapping.get(x, 0)\n",
        ")\n",
        "\n",
        "print(\"Clasificación de PA1_CALIDAD_SERV completada.\")"
      ],
      "metadata": {
        "colab": {
          "base_uri": "https://localhost:8080/"
        },
        "id": "_UqVwKmGv7AA",
        "outputId": "13bc14b9-d43f-491c-cdff-412690fb31de"
      },
      "execution_count": 13,
      "outputs": [
        {
          "output_type": "stream",
          "name": "stdout",
          "text": [
            "Clasificación de PA1_CALIDAD_SERV completada.\n"
          ]
        }
      ]
    },
    {
      "cell_type": "code",
      "source": [
        "# Clasificación para P_TRABAJO\n",
        "trabajo_mapping = {\n",
        "    1: 1, 2: 0.8, 3: 0.9, 4: 0.5, 5: 0.4, 6: 0.3\n",
        "}\n",
        "df_personas_redu['P_TRABAJO_CLAS'] = df_personas_redu['P_TRABAJO'].apply(\n",
        "    lambda x: trabajo_mapping.get(x, 0)\n",
        ")\n",
        "\n",
        "print(\"Clasificación de P_TRABAJO completada.\")"
      ],
      "metadata": {
        "colab": {
          "base_uri": "https://localhost:8080/"
        },
        "id": "WF45tY0VwAYC",
        "outputId": "c9639145-6197-4311-f164-ba1bb657659d"
      },
      "execution_count": 14,
      "outputs": [
        {
          "output_type": "stream",
          "name": "stdout",
          "text": [
            "Clasificación de P_TRABAJO completada.\n"
          ]
        }
      ]
    },
    {
      "cell_type": "code",
      "source": [
        "print(df_personas_redu.head())"
      ],
      "metadata": {
        "colab": {
          "base_uri": "https://localhost:8080/"
        },
        "id": "lxpVPvtEwbh1",
        "outputId": "93707ca1-c92a-4c8d-a987-47020378b1d3"
      },
      "execution_count": 15,
      "outputs": [
        {
          "output_type": "stream",
          "name": "stdout",
          "text": [
            "   COD_ENCUESTAS  P_ALFABETA  P_NIVEL_ANOSR  PA_ASISTENCIA  PA1_CALIDAD_SERV  \\\n",
            "0           3626         1.0            4.0            2.0               NaN   \n",
            "1           3626         1.0            4.0            2.0               NaN   \n",
            "2           3626         1.0            7.0            1.0               NaN   \n",
            "3           3626         NaN            NaN            NaN               NaN   \n",
            "4           3626         1.0            4.0            2.0               NaN   \n",
            "\n",
            "   P_TRABAJO  P_ALFABETA_CLAS  P_NIVEL_ANOSR_CLAS  PA_ASISTENCIA_CLAS  \\\n",
            "0        3.0                1                 0.5                   0   \n",
            "1        7.0                1                 0.5                   0   \n",
            "2        6.0                1                 0.8                   1   \n",
            "3        NaN                0                 0.0                   0   \n",
            "4        3.0                1                 0.5                   0   \n",
            "\n",
            "   PA1_CALIDAD_SERV_CLAS  P_TRABAJO_CLAS  \n",
            "0                    0.0             0.9  \n",
            "1                    0.0             0.0  \n",
            "2                    0.0             0.3  \n",
            "3                    0.0             0.0  \n",
            "4                    0.0             0.9  \n"
          ]
        }
      ]
    },
    {
      "cell_type": "code",
      "source": [
        "# Asegúrate de que el DataFrame 'df_personas_redu' está cargado correctamente.\n",
        "\n",
        "# Agrupar por 'COD_ENCUESTAS' y calcular el promedio para todas las columnas restantes\n",
        "df_personas_promediado = df_personas_redu.groupby('COD_ENCUESTAS').mean().reset_index()\n",
        "\n",
        "# Mostrar los primeros registros del DataFrame promediado\n",
        "print(df_personas_promediado.head())\n",
        "\n",
        "# Opcional: guardar el resultado en un archivo CSV\n",
        "ruta_guardadopro = '/content/drive/MyDrive/datathon/filtered_data/personas_prome_mun.CSV'\n",
        "df_personas_promediado.to_csv(ruta_guardadopro, index=False)\n",
        "print(f\"Archivo guardado en {ruta_guardadopro}.\")\n"
      ],
      "metadata": {
        "colab": {
          "base_uri": "https://localhost:8080/"
        },
        "id": "zMWaVi6a1L9e",
        "outputId": "d28fa0b3-8423-41d0-e450-8b2ceed5d7ca"
      },
      "execution_count": 16,
      "outputs": [
        {
          "output_type": "stream",
          "name": "stdout",
          "text": [
            "   COD_ENCUESTAS  P_ALFABETA  P_NIVEL_ANOSR  PA_ASISTENCIA  PA1_CALIDAD_SERV  \\\n",
            "0           3626         1.0       4.750000       1.750000               NaN   \n",
            "1           3629         1.0       5.666667       2.000000               NaN   \n",
            "2           3630         1.0       4.333333       1.833333               NaN   \n",
            "3           3632         1.0       3.000000       2.000000               NaN   \n",
            "4           3634         1.0       5.500000       2.000000               NaN   \n",
            "\n",
            "   P_TRABAJO  P_ALFABETA_CLAS  P_NIVEL_ANOSR_CLAS  PA_ASISTENCIA_CLAS  \\\n",
            "0   4.750000         0.800000            0.460000            0.200000   \n",
            "1   1.000000         1.000000            0.633333            0.000000   \n",
            "2   3.800000         0.857143            0.442857            0.142857   \n",
            "3   3.666667         1.000000            0.366667            0.000000   \n",
            "4   2.000000         1.000000            0.650000            0.000000   \n",
            "\n",
            "   PA1_CALIDAD_SERV_CLAS  P_TRABAJO_CLAS  \n",
            "0                    0.0        0.420000  \n",
            "1                    0.0        1.000000  \n",
            "2                    0.0        0.514286  \n",
            "3                    0.0        0.633333  \n",
            "4                    0.0        0.950000  \n",
            "Archivo guardado en /content/drive/MyDrive/datathon/filtered_data/personas_prome_mun.CSV.\n"
          ]
        }
      ]
    },
    {
      "cell_type": "code",
      "source": [
        "num_filaspro = df_personas_promediado.shape[0]\n",
        "print(f\"El DataFrame tiene {num_filaspro} filas.\")"
      ],
      "metadata": {
        "colab": {
          "base_uri": "https://localhost:8080/"
        },
        "id": "_6XzYJNn2Fzw",
        "outputId": "e539d903-00e5-4dda-c7bd-6256e2a3cfe4"
      },
      "execution_count": 17,
      "outputs": [
        {
          "output_type": "stream",
          "name": "stdout",
          "text": [
            "El DataFrame tiene 798782 filas.\n"
          ]
        }
      ]
    },
    {
      "cell_type": "code",
      "source": [
        "# Crear una nueva base de datos con las columnas seleccionadas\n",
        "columnas_seleccionadas = [\n",
        "    'COD_ENCUESTAS',\n",
        "    'P_ALFABETA_CLAS',\n",
        "    'P_NIVEL_ANOSR_CLAS',\n",
        "    'PA_ASISTENCIA_CLAS',\n",
        "    'PA1_CALIDAD_SERV_CLAS',\n",
        "    'P_TRABAJO_CLAS'\n",
        "]\n",
        "\n",
        "# Crear el DataFrame con las columnas seleccionadas\n",
        "df_clasificado = df_personas_promediado[columnas_seleccionadas]\n",
        "\n",
        "# Mostrar los primeros registros del nuevo DataFrame\n",
        "print(df_clasificado.head())\n",
        "\n",
        "# Si deseas guardarlo, puedes usar este código:\n",
        "ruta_guardado = '/content/drive/MyDrive/datathon/filtered_data/personas_clasificado.csv'\n",
        "df_clasificado.to_csv(ruta_guardado, index=False)\n",
        "\n",
        "print(\"Base de datos creada con éxito.\")\n"
      ],
      "metadata": {
        "colab": {
          "base_uri": "https://localhost:8080/"
        },
        "id": "X4Q0kODL2SKr",
        "outputId": "9cc2a059-a81e-4e1e-df21-0a8f2f2bcb42"
      },
      "execution_count": 18,
      "outputs": [
        {
          "output_type": "stream",
          "name": "stdout",
          "text": [
            "   COD_ENCUESTAS  P_ALFABETA_CLAS  P_NIVEL_ANOSR_CLAS  PA_ASISTENCIA_CLAS  \\\n",
            "0           3626         0.800000            0.460000            0.200000   \n",
            "1           3629         1.000000            0.633333            0.000000   \n",
            "2           3630         0.857143            0.442857            0.142857   \n",
            "3           3632         1.000000            0.366667            0.000000   \n",
            "4           3634         1.000000            0.650000            0.000000   \n",
            "\n",
            "   PA1_CALIDAD_SERV_CLAS  P_TRABAJO_CLAS  \n",
            "0                    0.0        0.420000  \n",
            "1                    0.0        1.000000  \n",
            "2                    0.0        0.514286  \n",
            "3                    0.0        0.633333  \n",
            "4                    0.0        0.950000  \n",
            "Base de datos creada con éxito.\n"
          ]
        }
      ]
    },
    {
      "cell_type": "code",
      "source": [
        "num_filasc = df_clasificado.shape[0]\n",
        "print(f\"El DataFrame tiene {num_filasc} filas.\")"
      ],
      "metadata": {
        "colab": {
          "base_uri": "https://localhost:8080/"
        },
        "id": "YNGcW3tU38e0",
        "outputId": "be925819-b523-4837-8e72-78af4f2fd09c"
      },
      "execution_count": 19,
      "outputs": [
        {
          "output_type": "stream",
          "name": "stdout",
          "text": [
            "El DataFrame tiene 798782 filas.\n"
          ]
        }
      ]
    },
    {
      "cell_type": "code",
      "source": [
        "rutaMNG = '/content/drive/MyDrive/datathon/filtered_data/MNG_filtro_mun.CSV'\n",
        "\n",
        "# Cargar la segunda base de datos\n",
        "df_segunda = pd.read_csv(rutaMNG)\n",
        "\n",
        "# Realizar el merge para agregar 'COD_DANE_ANM' a la primera base\n",
        "df_combinado = pd.merge(df_seleccion, df_segunda[['COD_ENCUESTAS', 'COD_DANE_ANM']], on='COD_ENCUESTAS', how='left')\n",
        "\n",
        "# Mostrar los primeros registros de la base combinada\n",
        "print(df_combinado.head())\n",
        "\n",
        "# Opcional: guardar la nueva base combinada en un archivo CSV\n",
        "ruta_guardado_combinado = '/content/drive/MyDrive/datathon/filtered_data/MNGpersonasydane.CSV'\n",
        "df_combinado.to_csv(ruta_guardado_combinado, index=False)\n",
        "\n",
        "print(f\"Base combinada guardada en {ruta_guardado_combinado}.\")\n"
      ],
      "metadata": {
        "colab": {
          "base_uri": "https://localhost:8080/"
        },
        "id": "kiVToanB558X",
        "outputId": "375eda27-111c-48de-ba25-3142ab2f9c4b"
      },
      "execution_count": 20,
      "outputs": [
        {
          "output_type": "stream",
          "name": "stdout",
          "text": [
            "   COD_ENCUESTAS  P_ALFABETA  P_NIVEL_ANOSR  PA_ASISTENCIA  PA1_CALIDAD_SERV  \\\n",
            "0           3626         1.0            4.0            2.0               NaN   \n",
            "1           3626         1.0            4.0            2.0               NaN   \n",
            "2           3626         1.0            7.0            1.0               NaN   \n",
            "3           3626         NaN            NaN            NaN               NaN   \n",
            "4           3626         1.0            4.0            2.0               NaN   \n",
            "\n",
            "   P_TRABAJO            COD_DANE_ANM  \n",
            "0        3.0  0500110000000002020631  \n",
            "1        7.0  0500110000000002020631  \n",
            "2        6.0  0500110000000002020631  \n",
            "3        NaN  0500110000000002020631  \n",
            "4        3.0  0500110000000002020631  \n",
            "Base combinada guardada en /content/drive/MyDrive/datathon/filtered_data/MNGpersonasydane.CSV.\n"
          ]
        }
      ]
    },
    {
      "cell_type": "code",
      "source": [
        "ruta_vivienda = '/content/drive/MyDrive/datathon/filtered_data/vivienda_filtro_mun.CSV'\n",
        "df_vivienda = pd.read_csv(ruta_vivienda)"
      ],
      "metadata": {
        "id": "uTSv9P9G7b9g"
      },
      "execution_count": 21,
      "outputs": []
    },
    {
      "cell_type": "code",
      "source": [
        "columnas_seleccionadas_vivienda = [\n",
        "    'COD_ENCUESTAS',  # Código de encuesta\n",
        "    'V_MAT_PARED',\n",
        "    'V_MAT_PISO',\n",
        "    'VA_EE',\n",
        "    'VB_ACU',\n",
        "    'VC_ALC',\n",
        "    'VD_GAS',\n",
        "    'VE_RECBAS'\n",
        "]\n",
        "\n",
        "# Crear una nueva base de datos con las columnas seleccionadas\n",
        "df_vivienda_seleccion = df_vivienda[columnas_seleccionadas_vivienda]\n",
        "\n",
        "# Mostrar los primeros registros para verificar\n",
        "print(df_vivienda_seleccion.head())\n",
        "\n",
        "# Guardar la base de datos seleccionada en un archivo CSV\n",
        "ruta_guardado_vivienda_seleccion = '/content/drive/MyDrive/datathon/filtered_data/vivienda_seleccion.csv'\n",
        "df_vivienda_seleccion.to_csv(ruta_guardado_vivienda_seleccion, index=False)\n",
        "\n",
        "print(f\"Base de datos creada y guardada en {ruta_guardado_vivienda_seleccion}.\")"
      ],
      "metadata": {
        "colab": {
          "base_uri": "https://localhost:8080/"
        },
        "id": "-cU43XQC8MXa",
        "outputId": "881cdf3e-8529-4256-f6d6-c2f79c0ada2b"
      },
      "execution_count": 22,
      "outputs": [
        {
          "output_type": "stream",
          "name": "stdout",
          "text": [
            "   COD_ENCUESTAS  V_MAT_PARED  V_MAT_PISO  VA_EE  VB_ACU  VC_ALC  VD_GAS  \\\n",
            "0           3646          1.0         2.0    1.0     1.0     1.0     1.0   \n",
            "1           3649          1.0         2.0    1.0     1.0     1.0     1.0   \n",
            "2           3658          1.0         5.0    1.0     1.0     1.0     2.0   \n",
            "3           3662          1.0         2.0    1.0     1.0     1.0     1.0   \n",
            "4           3666          8.0         4.0    1.0     1.0     1.0     2.0   \n",
            "\n",
            "   VE_RECBAS  \n",
            "0        1.0  \n",
            "1        1.0  \n",
            "2        1.0  \n",
            "3        1.0  \n",
            "4        1.0  \n",
            "Base de datos creada y guardada en /content/drive/MyDrive/datathon/filtered_data/vivienda_seleccion.csv.\n"
          ]
        }
      ]
    },
    {
      "cell_type": "code",
      "source": [
        "# Clasificación para V_MAT_PARED\n",
        "pared_mapping = {\n",
        "    1: 1.0,  # Bloque, ladrillo, piedra, madera pulida\n",
        "    2: 0.8,  # Madera burda, tabla, tablón\n",
        "    3: 0.6,  # Guadua, caña, esterilla\n",
        "    4: 0.4,  # Tapia pisada, adobe\n",
        "    5: 0.9,  # Material prefabricado\n",
        "    6: 0.2,  # Zinc, tela, cartón, latas, desechos\n",
        "    7: 0.5,  # Otros\n",
        "    9: 0.0   # No informa\n",
        "}\n",
        "\n",
        "# Crear la columna clasificada\n",
        "df_vivienda_seleccion.loc[:,'V_MAT_PARED_CLAS'] = df_vivienda_seleccion['V_MAT_PARED'].map(pared_mapping).fillna(0)\n",
        "\n",
        "print(\"Clasificación de V_MAT_PARED completada.\")\n"
      ],
      "metadata": {
        "colab": {
          "base_uri": "https://localhost:8080/"
        },
        "id": "uTnQx0dE8nXd",
        "outputId": "3ebc1df1-d005-4c0c-99d3-8a6c791c897f"
      },
      "execution_count": 37,
      "outputs": [
        {
          "output_type": "stream",
          "name": "stdout",
          "text": [
            "Clasificación de V_MAT_PARED completada.\n"
          ]
        }
      ]
    },
    {
      "cell_type": "code",
      "source": [
        "# Clasificación para V_MAT_PISO\n",
        "piso_mapping = {\n",
        "    1: 1.0,  # Mármol, parqué, madera pulida, alfombra\n",
        "    2: 0.8,  # Baldosa, vinilo, tableta, ladrillo\n",
        "    3: 0.6,  # Madera burda, tabla, tablón\n",
        "    4: 0.4,  # Cemento, gravilla\n",
        "    5: 0.2,  # Tierra, arena\n",
        "    6: 0.5,  # Otros\n",
        "    9: 0.0   # No informa\n",
        "}\n",
        "\n",
        "# Crear la columna clasificada\n",
        "df_vivienda_seleccion.loc[:,'V_MAT_PISO_CLAS'] = df_vivienda_seleccion['V_MAT_PISO'].map(piso_mapping).fillna(0)\n",
        "\n",
        "print(\"Clasificación de V_MAT_PISO completada.\")\n"
      ],
      "metadata": {
        "colab": {
          "base_uri": "https://localhost:8080/"
        },
        "id": "hJJpN-tl8tCv",
        "outputId": "46aa8bee-f483-44d7-f438-3b4c19b4fd9d"
      },
      "execution_count": 38,
      "outputs": [
        {
          "output_type": "stream",
          "name": "stdout",
          "text": [
            "Clasificación de V_MAT_PISO completada.\n"
          ]
        }
      ]
    },
    {
      "cell_type": "code",
      "source": [
        "# Clasificación para VA_EE\n",
        "ee_mapping = {\n",
        "    1: 1.0,  # Sí\n",
        "    2: 0.0,  # No\n",
        "    9: 0.0   # No informa\n",
        "}\n",
        "\n",
        "# Crear la columna clasificada\n",
        "df_vivienda_seleccion.loc[:,'VA_EE_CLAS'] = df_vivienda_seleccion['VA_EE'].map(ee_mapping).fillna(0)\n",
        "\n",
        "print(\"Clasificación de VA_EE completada.\")\n"
      ],
      "metadata": {
        "colab": {
          "base_uri": "https://localhost:8080/"
        },
        "id": "pd1Nelov8vxv",
        "outputId": "d096c149-e7de-4ed3-f134-f8aecfa8d385"
      },
      "execution_count": 39,
      "outputs": [
        {
          "output_type": "stream",
          "name": "stdout",
          "text": [
            "Clasificación de VA_EE completada.\n"
          ]
        }
      ]
    },
    {
      "cell_type": "code",
      "source": [
        "# Clasificación para VB_ACU\n",
        "acu_mapping = {\n",
        "    1: 1.0,  # Sí\n",
        "    2: 0.0,  # No\n",
        "    9: 0.0   # No informa\n",
        "}\n",
        "\n",
        "# Crear la columna clasificada\n",
        "df_vivienda_seleccion.loc[:,'VB_ACU_CLAS'] = df_vivienda_seleccion['VB_ACU'].map(acu_mapping).fillna(0)\n",
        "\n",
        "print(\"Clasificación de VB_ACU completada.\")\n"
      ],
      "metadata": {
        "colab": {
          "base_uri": "https://localhost:8080/"
        },
        "id": "NpfKx_qQ8y9C",
        "outputId": "b0646a78-a250-4393-fa56-aff2152ea046"
      },
      "execution_count": 40,
      "outputs": [
        {
          "output_type": "stream",
          "name": "stdout",
          "text": [
            "Clasificación de VB_ACU completada.\n"
          ]
        }
      ]
    },
    {
      "cell_type": "code",
      "source": [
        "# Clasificación para VC_ALC\n",
        "alc_mapping = {\n",
        "    1: 1.0,  # Sí\n",
        "    2: 0.0,  # No\n",
        "    9: 0.0   # No informa\n",
        "}\n",
        "\n",
        "# Crear la columna clasificada\n",
        "df_vivienda_seleccion.loc[:,'VC_ALC_CLAS'] = df_vivienda_seleccion['VC_ALC'].map(alc_mapping).fillna(0)\n",
        "\n",
        "print(\"Clasificación de VC_ALC completada.\")\n"
      ],
      "metadata": {
        "colab": {
          "base_uri": "https://localhost:8080/"
        },
        "id": "uXuGzJxm81Bo",
        "outputId": "26871b0f-2f91-4f20-fd6b-0a5871470916"
      },
      "execution_count": 41,
      "outputs": [
        {
          "output_type": "stream",
          "name": "stdout",
          "text": [
            "Clasificación de VC_ALC completada.\n"
          ]
        }
      ]
    },
    {
      "cell_type": "code",
      "source": [
        "# Clasificación para VD_GAS\n",
        "gas_mapping = {\n",
        "    1: 1.0,  # Sí\n",
        "    2: 0.0,  # No\n",
        "    9: 0.0   # No informa\n",
        "}\n",
        "\n",
        "# Crear la columna clasificada\n",
        "df_vivienda_seleccion.loc[:,'VD_GAS_CLAS'] = df_vivienda_seleccion['VD_GAS'].map(gas_mapping).fillna(0)\n",
        "\n",
        "print(\"Clasificación de VD_GAS completada.\")"
      ],
      "metadata": {
        "colab": {
          "base_uri": "https://localhost:8080/"
        },
        "id": "I52NrTAu83pD",
        "outputId": "a3471b24-afa0-4fcb-e62f-283730ef8a05"
      },
      "execution_count": 42,
      "outputs": [
        {
          "output_type": "stream",
          "name": "stdout",
          "text": [
            "Clasificación de VD_GAS completada.\n"
          ]
        }
      ]
    },
    {
      "cell_type": "code",
      "source": [
        "# Diccionario de clasificación para VE_RECBAS\n",
        "recbas_mapping = {\n",
        "    1: 1.0,  # Sí\n",
        "    2: 0.0,  # No\n",
        "    9: 0.0   # No informa\n",
        "}\n",
        "\n",
        "# Crear la columna clasificada de manera explícita con .loc\n",
        "df_vivienda_seleccion.loc[:, 'VE_RECBAS_CLAS'] = df_vivienda_seleccion['VE_RECBAS'].map(recbas_mapping).fillna(0)\n",
        "\n",
        "print(\"Clasificación de VE_RECBAS completada sin advertencias.\")\n"
      ],
      "metadata": {
        "colab": {
          "base_uri": "https://localhost:8080/"
        },
        "id": "aUm8T1Bj86e2",
        "outputId": "de712e2d-9f4b-4ec8-ff4d-044bc405fe87"
      },
      "execution_count": 43,
      "outputs": [
        {
          "output_type": "stream",
          "name": "stdout",
          "text": [
            "Clasificación de VE_RECBAS completada sin advertencias.\n"
          ]
        }
      ]
    },
    {
      "cell_type": "code",
      "source": [
        "# Guardar la base de datos clasificada\n",
        "ruta_guardado_clasificada = '/content/drive/MyDrive/datathon/filtered_data/vivienda_clasificada.csv'\n",
        "df_vivienda_seleccion.to_csv(ruta_guardado_clasificada, index=False)\n",
        "\n",
        "print(f\"Base de datos clasificada guardada en {ruta_guardado_clasificada}.\")\n"
      ],
      "metadata": {
        "colab": {
          "base_uri": "https://localhost:8080/"
        },
        "id": "NYo2H9yW89Ir",
        "outputId": "4f20abb3-a900-4a3d-c52b-f99764be99be"
      },
      "execution_count": 30,
      "outputs": [
        {
          "output_type": "stream",
          "name": "stdout",
          "text": [
            "Base de datos clasificada guardada en /content/drive/MyDrive/datathon/filtered_data/vivienda_clasificada.csv.\n"
          ]
        }
      ]
    },
    {
      "cell_type": "code",
      "source": [
        "print(df_vivienda_seleccion.head())"
      ],
      "metadata": {
        "colab": {
          "base_uri": "https://localhost:8080/"
        },
        "id": "o4bCpuB59CIJ",
        "outputId": "bc964f97-6eab-4218-f7f8-4b10560225f0"
      },
      "execution_count": 31,
      "outputs": [
        {
          "output_type": "stream",
          "name": "stdout",
          "text": [
            "   COD_ENCUESTAS  V_MAT_PARED  V_MAT_PISO  VA_EE  VB_ACU  VC_ALC  VD_GAS  \\\n",
            "0           3646          1.0         2.0    1.0     1.0     1.0     1.0   \n",
            "1           3649          1.0         2.0    1.0     1.0     1.0     1.0   \n",
            "2           3658          1.0         5.0    1.0     1.0     1.0     2.0   \n",
            "3           3662          1.0         2.0    1.0     1.0     1.0     1.0   \n",
            "4           3666          8.0         4.0    1.0     1.0     1.0     2.0   \n",
            "\n",
            "   VE_RECBAS  V_MAT_PARED_CLAS  V_MAT_PISO_CLAS  VA_EE_CLAS  VB_ACU_CLAS  \\\n",
            "0        1.0               1.0              0.8         1.0          1.0   \n",
            "1        1.0               1.0              0.8         1.0          1.0   \n",
            "2        1.0               1.0              0.2         1.0          1.0   \n",
            "3        1.0               1.0              0.8         1.0          1.0   \n",
            "4        1.0               0.0              0.4         1.0          1.0   \n",
            "\n",
            "   VC_ALC_CLAS  VD_GAS_CLAS  VE_RECBAS_CLAS  \n",
            "0          1.0          1.0             1.0  \n",
            "1          1.0          1.0             1.0  \n",
            "2          1.0          0.0             1.0  \n",
            "3          1.0          1.0             1.0  \n",
            "4          1.0          0.0             1.0  \n"
          ]
        }
      ]
    },
    {
      "cell_type": "code",
      "source": [
        "# Mostrar las columnas de df_vivienda_seleccion\n",
        "print(\"Columnas en df_vivienda_seleccion:\")\n",
        "print(df_vivienda_seleccion.columns)\n"
      ],
      "metadata": {
        "colab": {
          "base_uri": "https://localhost:8080/"
        },
        "id": "AnCVBT6aEUW1",
        "outputId": "d1995b19-4e45-4e5f-bcbc-a03531b2d090"
      },
      "execution_count": 32,
      "outputs": [
        {
          "output_type": "stream",
          "name": "stdout",
          "text": [
            "Columnas en df_vivienda_seleccion:\n",
            "Index(['COD_ENCUESTAS', 'V_MAT_PARED', 'V_MAT_PISO', 'VA_EE', 'VB_ACU',\n",
            "       'VC_ALC', 'VD_GAS', 'VE_RECBAS', 'V_MAT_PARED_CLAS', 'V_MAT_PISO_CLAS',\n",
            "       'VA_EE_CLAS', 'VB_ACU_CLAS', 'VC_ALC_CLAS', 'VD_GAS_CLAS',\n",
            "       'VE_RECBAS_CLAS'],\n",
            "      dtype='object')\n"
          ]
        }
      ]
    },
    {
      "cell_type": "code",
      "source": [
        "# Eliminar duplicados en df_combinado basándose en 'COD_ENCUESTAS'\n",
        "df_combinado_unique = df_clasificado.drop_duplicates(subset='COD_ENCUESTAS')\n",
        "\n",
        "# Eliminar duplicados en df_vivienda_seleccion basándose en 'COD_ENCUESTAS'\n",
        "df_vivienda_unique = df_vivienda_seleccion.drop_duplicates(subset='COD_ENCUESTAS')\n",
        "\n",
        "# Verificar que se eliminaron los duplicados\n",
        "print(\"Duplicados restantes en df_combinado_unique:\", df_combinado_unique['COD_ENCUESTAS'].duplicated().sum())\n",
        "print(\"Duplicados restantes en df_vivienda_unique:\", df_vivienda_unique['COD_ENCUESTAS'].duplicated().sum())\n"
      ],
      "metadata": {
        "colab": {
          "base_uri": "https://localhost:8080/"
        },
        "id": "ml7Q-bW1DTP7",
        "outputId": "e2f07845-b2fe-4645-c759-6fd17babecda"
      },
      "execution_count": 48,
      "outputs": [
        {
          "output_type": "stream",
          "name": "stdout",
          "text": [
            "Duplicados restantes en df_combinado_unique: 0\n",
            "Duplicados restantes en df_vivienda_unique: 0\n"
          ]
        }
      ]
    },
    {
      "cell_type": "code",
      "source": [
        "# Verificar duplicados en COD_ENCUESTAS\n",
        "print(\"Duplicados en df_combinado:\", df_combinado_unique['COD_ENCUESTAS'].duplicated().sum())\n",
        "print(\"Duplicados en df_vivienda_seleccion:\", df_vivienda_unique['COD_ENCUESTAS'].duplicated().sum())\n",
        "\n",
        "# Eliminar duplicados si es necesario\n",
        "df_combinado_unique = df_combinado_unique.drop_duplicates(subset='COD_ENCUESTAS')\n",
        "df_vivienda_unique = df_vivienda_unique.drop_duplicates(subset='COD_ENCUESTAS')\n",
        "\n",
        "# Concatenar las bases de datos horizontalmente\n",
        "df_unido_temp = pd.concat(\n",
        "    [df_combinado_unique.set_index('COD_ENCUESTAS'),\n",
        "     df_vivienda_unique.set_index('COD_ENCUESTAS')],\n",
        "    axis=1\n",
        ")\n",
        "\n",
        "# Eliminar filas con valores nulos (donde no hay coincidencias)\n",
        "df_unido = df_unido_temp.dropna().reset_index()\n",
        "\n",
        "# Mostrar las columnas resultantes\n",
        "print(\"Las columnas en la base combinada son:\")\n",
        "print(df_unido.columns)\n",
        "\n",
        "# Mostrar las primeras filas de la base combinada\n",
        "print(\"\\nPrimeras filas de la base combinada:\")\n",
        "print(df_unido.head())\n",
        "\n",
        "# Guardar la base combinada\n",
        "ruta_guardado = '/content/drive/MyDrive/datathon/filtered_data/base_combinada_full.csv'\n",
        "df_unido.to_csv(ruta_guardado, index=False)\n",
        "\n",
        "print(f\"Base de datos combinada guardada en {ruta_guardado}.\")\n"
      ],
      "metadata": {
        "colab": {
          "base_uri": "https://localhost:8080/"
        },
        "id": "1dwi7a7v_qOH",
        "outputId": "5638fe63-d7c7-41cc-d4b6-57184028bbe1"
      },
      "execution_count": 49,
      "outputs": [
        {
          "output_type": "stream",
          "name": "stdout",
          "text": [
            "Duplicados en df_combinado: 0\n",
            "Duplicados en df_vivienda_seleccion: 0\n",
            "Las columnas en la base combinada son:\n",
            "Index(['COD_ENCUESTAS', 'P_ALFABETA_CLAS', 'P_NIVEL_ANOSR_CLAS',\n",
            "       'PA_ASISTENCIA_CLAS', 'PA1_CALIDAD_SERV_CLAS', 'P_TRABAJO_CLAS',\n",
            "       'V_MAT_PARED', 'V_MAT_PISO', 'VA_EE', 'VB_ACU', 'VC_ALC', 'VD_GAS',\n",
            "       'VE_RECBAS', 'V_MAT_PARED_CLAS', 'V_MAT_PISO_CLAS', 'VA_EE_CLAS',\n",
            "       'VB_ACU_CLAS', 'VC_ALC_CLAS', 'VD_GAS_CLAS', 'VE_RECBAS_CLAS'],\n",
            "      dtype='object')\n",
            "\n",
            "Primeras filas de la base combinada:\n",
            "   COD_ENCUESTAS  P_ALFABETA_CLAS  P_NIVEL_ANOSR_CLAS  PA_ASISTENCIA_CLAS  \\\n",
            "0           3626         0.800000            0.460000            0.200000   \n",
            "1           3629         1.000000            0.633333            0.000000   \n",
            "2           3630         0.857143            0.442857            0.142857   \n",
            "3           3632         1.000000            0.366667            0.000000   \n",
            "4           3634         1.000000            0.650000            0.000000   \n",
            "\n",
            "   PA1_CALIDAD_SERV_CLAS  P_TRABAJO_CLAS  V_MAT_PARED  V_MAT_PISO  VA_EE  \\\n",
            "0                    0.0        0.420000          1.0         2.0    1.0   \n",
            "1                    0.0        1.000000          3.0         2.0    1.0   \n",
            "2                    0.0        0.514286          1.0         2.0    1.0   \n",
            "3                    0.0        0.633333          1.0         2.0    1.0   \n",
            "4                    0.0        0.950000          1.0         2.0    1.0   \n",
            "\n",
            "   VB_ACU  VC_ALC  VD_GAS  VE_RECBAS  V_MAT_PARED_CLAS  V_MAT_PISO_CLAS  \\\n",
            "0     1.0     1.0     1.0        1.0               1.0              0.8   \n",
            "1     1.0     1.0     1.0        1.0               0.6              0.8   \n",
            "2     1.0     1.0     1.0        1.0               1.0              0.8   \n",
            "3     1.0     1.0     1.0        1.0               1.0              0.8   \n",
            "4     1.0     1.0     1.0        1.0               1.0              0.8   \n",
            "\n",
            "   VA_EE_CLAS  VB_ACU_CLAS  VC_ALC_CLAS  VD_GAS_CLAS  VE_RECBAS_CLAS  \n",
            "0         1.0          1.0          1.0          1.0             1.0  \n",
            "1         1.0          1.0          1.0          1.0             1.0  \n",
            "2         1.0          1.0          1.0          1.0             1.0  \n",
            "3         1.0          1.0          1.0          1.0             1.0  \n",
            "4         1.0          1.0          1.0          1.0             1.0  \n",
            "Base de datos combinada guardada en /content/drive/MyDrive/datathon/filtered_data/base_combinada_full.csv.\n"
          ]
        }
      ]
    },
    {
      "cell_type": "code",
      "source": [
        "print(df_unido.columns)\n"
      ],
      "metadata": {
        "colab": {
          "base_uri": "https://localhost:8080/"
        },
        "id": "JRTttrhc-t3q",
        "outputId": "bb28d3b2-2ced-463c-ebc9-222e66bc3c1c"
      },
      "execution_count": 47,
      "outputs": [
        {
          "output_type": "stream",
          "name": "stdout",
          "text": [
            "Index(['COD_ENCUESTAS', 'P_ALFABETA', 'P_NIVEL_ANOSR', 'PA_ASISTENCIA',\n",
            "       'PA1_CALIDAD_SERV', 'P_TRABAJO', 'COD_DANE_ANM', 'V_MAT_PARED',\n",
            "       'V_MAT_PISO', 'VA_EE', 'VB_ACU', 'VC_ALC', 'VD_GAS', 'VE_RECBAS',\n",
            "       'V_MAT_PARED_CLAS', 'V_MAT_PISO_CLAS', 'VA_EE_CLAS', 'VB_ACU_CLAS',\n",
            "       'VC_ALC_CLAS', 'VD_GAS_CLAS', 'VE_RECBAS_CLAS'],\n",
            "      dtype='object')\n"
          ]
        }
      ]
    },
    {
      "cell_type": "code",
      "source": [
        "# Crear una nueva columna aplicando la fórmula especificada\n",
        "df_unido['Indice_Calidad'] = (\n",
        "    (0.25 / 3) * df_unido['P_ALFABETA_CLAS'] +\n",
        "    (0.25 / 3) * df_unido['P_NIVEL_ANOSR_CLAS'] +\n",
        "    (0.25 / 3) * df_unido['PA_ASISTENCIA_CLAS'] +\n",
        "    (0.25) * df_unido['PA1_CALIDAD_SERV_CLAS'] +\n",
        "    (0.25) * df_unido['P_TRABAJO_CLAS'] +\n",
        "    (0.25 / 7) * df_unido['V_MAT_PARED_CLAS'] +\n",
        "    (0.25 / 7) * df_unido['V_MAT_PISO_CLAS'] +\n",
        "    (0.25 / 7) * df_unido['VA_EE_CLAS'] +\n",
        "    (0.25 / 7) * df_unido['VB_ACU_CLAS'] +\n",
        "    (0.25 / 7) * df_unido['VC_ALC_CLAS'] +\n",
        "    (0.25 / 7) * df_unido['VD_GAS_CLAS'] +\n",
        "    (0.25 / 7) * df_unido['VE_RECBAS_CLAS']\n",
        ")\n",
        "\n",
        "# Mostrar los primeros registros para verificar la nueva columna\n",
        "print(df_unido.head())\n",
        "\n",
        "# Opcional: guardar la base con la nueva columna en un archivo CSV\n",
        "ruta_guardado_indice = '/content/drive/MyDrive/datathon/filtered_data/vivienda_con_indice.csv'\n",
        "df_unido.to_csv(ruta_guardado_indice, index=False)\n",
        "\n",
        "print(f\"Base de datos con la nueva columna 'Indice_Calidad' guardada en {ruta_guardado_indice}.\")\n"
      ],
      "metadata": {
        "colab": {
          "base_uri": "https://localhost:8080/"
        },
        "id": "A9s2GtGCHtJP",
        "outputId": "32607e31-a9fa-413a-f50d-88333a737fa9"
      },
      "execution_count": 50,
      "outputs": [
        {
          "output_type": "stream",
          "name": "stdout",
          "text": [
            "   COD_ENCUESTAS  P_ALFABETA_CLAS  P_NIVEL_ANOSR_CLAS  PA_ASISTENCIA_CLAS  \\\n",
            "0           3626         0.800000            0.460000            0.200000   \n",
            "1           3629         1.000000            0.633333            0.000000   \n",
            "2           3630         0.857143            0.442857            0.142857   \n",
            "3           3632         1.000000            0.366667            0.000000   \n",
            "4           3634         1.000000            0.650000            0.000000   \n",
            "\n",
            "   PA1_CALIDAD_SERV_CLAS  P_TRABAJO_CLAS  V_MAT_PARED  V_MAT_PISO  VA_EE  \\\n",
            "0                    0.0        0.420000          1.0         2.0    1.0   \n",
            "1                    0.0        1.000000          3.0         2.0    1.0   \n",
            "2                    0.0        0.514286          1.0         2.0    1.0   \n",
            "3                    0.0        0.633333          1.0         2.0    1.0   \n",
            "4                    0.0        0.950000          1.0         2.0    1.0   \n",
            "\n",
            "   VB_ACU  ...  VD_GAS  VE_RECBAS  V_MAT_PARED_CLAS  V_MAT_PISO_CLAS  \\\n",
            "0     1.0  ...     1.0        1.0               1.0              0.8   \n",
            "1     1.0  ...     1.0        1.0               0.6              0.8   \n",
            "2     1.0  ...     1.0        1.0               1.0              0.8   \n",
            "3     1.0  ...     1.0        1.0               1.0              0.8   \n",
            "4     1.0  ...     1.0        1.0               1.0              0.8   \n",
            "\n",
            "   VA_EE_CLAS  VB_ACU_CLAS  VC_ALC_CLAS  VD_GAS_CLAS  VE_RECBAS_CLAS  \\\n",
            "0         1.0          1.0          1.0          1.0             1.0   \n",
            "1         1.0          1.0          1.0          1.0             1.0   \n",
            "2         1.0          1.0          1.0          1.0             1.0   \n",
            "3         1.0          1.0          1.0          1.0             1.0   \n",
            "4         1.0          1.0          1.0          1.0             1.0   \n",
            "\n",
            "   Indice_Calidad  \n",
            "0        0.469524  \n",
            "1        0.614683  \n",
            "2        0.491667  \n",
            "3        0.515079  \n",
            "4        0.617857  \n",
            "\n",
            "[5 rows x 21 columns]\n",
            "Base de datos con la nueva columna 'Indice_Calidad' guardada en /content/drive/MyDrive/datathon/filtered_data/vivienda_con_indice.csv.\n"
          ]
        }
      ]
    },
    {
      "cell_type": "code",
      "source": [
        "ruta_guardado = '/content/drive/MyDrive/datathon/filtered_data/df_unido.csv'\n",
        "df_unido.to_csv(ruta_guardado, index=False)\n",
        "print(f\"Archivo guardado en: {ruta_guardado}\")\n"
      ],
      "metadata": {
        "colab": {
          "base_uri": "https://localhost:8080/"
        },
        "id": "6STBgMDlGivd",
        "outputId": "10e054aa-ba92-4424-9a1b-afe60b364aee"
      },
      "execution_count": 53,
      "outputs": [
        {
          "output_type": "stream",
          "name": "stdout",
          "text": [
            "Archivo guardado en: /content/drive/MyDrive/datathon/filtered_data/df_unido.csv\n"
          ]
        }
      ]
    },
    {
      "cell_type": "code",
      "source": [
        "# Cargar las dos bases de datos\n",
        "base_1 = pd.read_csv(\"/content/drive/MyDrive/datathon/filtered_data/df_unido.csv\")  # Otra base de datos\n",
        "base_2 = pd.read_csv(\"/content/drive/MyDrive/datathon/filtered_data/MNGpersonasydane.CSV\")  # Base con COD_DANE_ANM\n",
        "\n",
        "# Hacer el merge para transferir la columna COD_DANE_ANM\n",
        "base_actualizada = pd.merge(\n",
        "    base_1,\n",
        "    base_2[['COD_ENCUESTAS', 'COD_DANE_ANM']],  # Seleccionar solo las columnas necesarias\n",
        "    on='COD_ENCUESTAS',  # Columna en común para combinar\n",
        "    how='left'  # Usar left join para mantener todas las filas de base_1\n",
        ")\n",
        "\n",
        "# Guardar la base actualizada\n",
        "base_actualizada.to_csv(\"ruta_base_actualizada.csv\", index=False)\n",
        "\n",
        "print(\"Base de datos actualizada guardada con la nueva columna COD_DANE_ANM.\")\n"
      ],
      "metadata": {
        "colab": {
          "base_uri": "https://localhost:8080/"
        },
        "id": "9CEePluwFwxx",
        "outputId": "2d3afbf7-99a4-402c-d165-f398e1360e6c"
      },
      "execution_count": 54,
      "outputs": [
        {
          "output_type": "stream",
          "name": "stdout",
          "text": [
            "Base de datos actualizada guardada con la nueva columna COD_DANE_ANM.\n"
          ]
        }
      ]
    },
    {
      "cell_type": "code",
      "source": [
        "# Agrupar por 'COD_DANE_ANM' y calcular el promedio de todas las columnas numéricas\n",
        "df_promedio_dane = base_actualizada.groupby('COD_DANE_ANM').mean().reset_index()\n",
        "\n",
        "# Mostrar los primeros registros del DataFrame promediado\n",
        "print(\"Primeros registros del DataFrame promediado por 'COD_DANE_ANM':\")\n",
        "print(df_promedio_dane.head())\n",
        "\n",
        "# Guardar el DataFrame promediado en un archivo CSV\n",
        "ruta_guardado_promedio_dane = '/content/drive/MyDrive/datathon/filtered_data/vivienda_promedio_dane.csv'\n",
        "df_promedio_dane.to_csv(ruta_guardado_promedio_dane, index=False)\n",
        "\n",
        "print(f\"Base de datos promediada por 'COD_DANE_ANM' guardada en {ruta_guardado_promedio_dane}.\")\n"
      ],
      "metadata": {
        "colab": {
          "base_uri": "https://localhost:8080/"
        },
        "id": "fBO-T3dPOSGD",
        "outputId": "78355da2-6062-4a19-dee2-f91d872cef92"
      },
      "execution_count": 56,
      "outputs": [
        {
          "output_type": "stream",
          "name": "stdout",
          "text": [
            "Primeros registros del DataFrame promediado por 'COD_DANE_ANM':\n",
            "             COD_DANE_ANM  COD_ENCUESTAS  P_ALFABETA_CLAS  P_NIVEL_ANOSR_CLAS  \\\n",
            "0  0500110000000001010101   1.278821e+07         0.851064            0.363830   \n",
            "1  0500110000000001010104   4.622884e+07         0.847716            0.390355   \n",
            "2  0500110000000001010105   2.278194e+07         0.868932            0.364563   \n",
            "3  0500110000000001010108   7.982363e+07         0.830986            0.354577   \n",
            "4  0500110000000001010110   4.001708e+07         0.811111            0.344444   \n",
            "\n",
            "   PA_ASISTENCIA_CLAS  PA1_CALIDAD_SERV_CLAS  P_TRABAJO_CLAS  V_MAT_PARED  \\\n",
            "0            0.202128               0.008511        0.403191     1.000000   \n",
            "1            0.192893               0.042640        0.503553     1.000000   \n",
            "2            0.223301               0.017476        0.500000     1.121359   \n",
            "3            0.204225               0.077465        0.461972     1.070423   \n",
            "4            0.266667               0.002222        0.394444     1.000000   \n",
            "\n",
            "   V_MAT_PISO  VA_EE  ...    VD_GAS  VE_RECBAS  V_MAT_PARED_CLAS  \\\n",
            "0    3.404255    1.0  ...  1.851064        1.0          1.000000   \n",
            "1    2.548223    1.0  ...  1.456853        1.0          1.000000   \n",
            "2    2.936893    1.0  ...  1.480583        1.0          0.980583   \n",
            "3    3.098592    1.0  ...  1.450704        1.0          0.988732   \n",
            "4    3.022222    1.0  ...  1.433333        1.0          1.000000   \n",
            "\n",
            "   V_MAT_PISO_CLAS  VA_EE_CLAS  VB_ACU_CLAS  VC_ALC_CLAS  VD_GAS_CLAS  \\\n",
            "0         0.519149         1.0          1.0          1.0     0.148936   \n",
            "1         0.710660         1.0          1.0          1.0     0.543147   \n",
            "2         0.612621         1.0          1.0          1.0     0.519417   \n",
            "3         0.580282         1.0          1.0          1.0     0.697183   \n",
            "4         0.595556         1.0          1.0          1.0     0.566667   \n",
            "\n",
            "   VE_RECBAS_CLAS  Indice_Calidad  \n",
            "0             1.0        0.423442  \n",
            "1             1.0        0.479146  \n",
            "2             1.0        0.469077  \n",
            "3             1.0        0.474468  \n",
            "4             1.0        0.437765  \n",
            "\n",
            "[5 rows x 22 columns]\n",
            "Base de datos promediada por 'COD_DANE_ANM' guardada en /content/drive/MyDrive/datathon/filtered_data/vivienda_promedio_dane.csv.\n"
          ]
        }
      ]
    },
    {
      "cell_type": "code",
      "source": [
        "num_filasunid = df_promedio_dane.shape[0]\n",
        "print(f\"La base de datos tiene {num_filasunid} filas.\")"
      ],
      "metadata": {
        "colab": {
          "base_uri": "https://localhost:8080/"
        },
        "id": "_W18vRr7J-iy",
        "outputId": "27a447bb-d52b-43f2-d711-bc2b461d7795"
      },
      "execution_count": 57,
      "outputs": [
        {
          "output_type": "stream",
          "name": "stdout",
          "text": [
            "La base de datos tiene 12441 filas.\n"
          ]
        }
      ]
    },
    {
      "cell_type": "code",
      "source": [
        "ruta_arcgisfiltrado = '/content/drive/MyDrive/datathon/filtered_data/arcgis_filtro_mun.CSV'\n",
        "df_arcgisfiltrado = pd.read_csv(ruta_arcgisfiltrado)"
      ],
      "metadata": {
        "colab": {
          "base_uri": "https://localhost:8080/"
        },
        "id": "dS4tBGwaMCHX",
        "outputId": "f3894c52-f4d5-4ec4-a6d0-069ab9cf362d"
      },
      "execution_count": 58,
      "outputs": [
        {
          "output_type": "stream",
          "name": "stderr",
          "text": [
            "<ipython-input-58-a596885e7e5a>:2: DtypeWarning: Columns (15,104) have mixed types. Specify dtype option on import or set low_memory=False.\n",
            "  df_arcgisfiltrado = pd.read_csv(ruta_arcgisfiltrado)\n"
          ]
        }
      ]
    },
    {
      "cell_type": "code",
      "source": [
        "print(df_arcgisfiltrado.head())"
      ],
      "metadata": {
        "colab": {
          "base_uri": "https://localhost:8080/"
        },
        "id": "4eDZm5TzMe75",
        "outputId": "10ad9d40-4429-4a3d-f876-5111d91f7997"
      },
      "execution_count": 59,
      "outputs": [
        {
          "output_type": "stream",
          "name": "stdout",
          "text": [
            "   OBJECTID              COD_DANE_A  DPTO_CCDGO  MPIO_CCDGO  MPIO_CDPMP  \\\n",
            "0     33648  0500110000000001010101           5           1        5001   \n",
            "1     33649  0500110000000001010104           5           1        5001   \n",
            "2     33650  0500110000000001010105           5           1        5001   \n",
            "3     33651  0500110000000001010108           5           1        5001   \n",
            "4     33652  0500110000000001010109           5           1        5001   \n",
            "\n",
            "   CLAS_CCDGO  SETR_CCDGO  SETR_CCNCT  SECR_CCDGO  SECR_CCNCT  ...  \\\n",
            "0           1           0    50011000           0  5001100000  ...   \n",
            "1           1           0    50011000           0  5001100000  ...   \n",
            "2           1           0    50011000           0  5001100000  ...   \n",
            "3           1           0    50011000           0  5001100000  ...   \n",
            "4           1           0    50011000           0  5001100000  ...   \n",
            "\n",
            "   TP51SECUND  TP51SUPERI  TP51POSTGR  TP51_13_ED  TP51_99_ED CD_LC_CM  \\\n",
            "0          47           4           0           4           1        1   \n",
            "1          98          12           0          10           6        1   \n",
            "2          94          17           0           5           3        1   \n",
            "3          59           7           1           8           8        1   \n",
            "4           0           0           0           0           0        1   \n",
            "\n",
            "   NMB_LC_CM  TP_LC_CM Shape_Leng    Shape_Area  \n",
            "0    Popular    Comuna   0.003371  2.313260e-07  \n",
            "1    Popular    Comuna   0.002620  1.629520e-07  \n",
            "2    Popular    Comuna   0.003002  2.090910e-07  \n",
            "3    Popular    Comuna   0.001944  1.573090e-07  \n",
            "4    Popular    Comuna   0.001469  9.901160e-08  \n",
            "\n",
            "[5 rows x 109 columns]\n"
          ]
        }
      ]
    },
    {
      "cell_type": "code",
      "source": [
        "\n",
        "# Combinar las bases de datos usando 'COD_DANE_ANM' de df_unido y 'COD_DANE_A' de df_arcgisfiltrado\n",
        "df_final = pd.merge(\n",
        "    df_arcgisfiltrado,\n",
        "    df_promedio_dane[['COD_DANE_ANM', 'Indice_Calidad']],  # Seleccionar solo las columnas necesarias de df_unido\n",
        "    left_on='COD_DANE_A',  # Columna en df_arcgisfiltrado\n",
        "    right_on='COD_DANE_ANM',  # Columna en df_unido\n",
        "    how='inner'  # Mantener solo las filas con coincidencias\n",
        ")\n",
        "\n",
        "# Eliminar la columna 'COD_DANE_ANM' si no es necesaria después del merge\n",
        "if 'COD_DANE_ANM' in df_final.columns:\n",
        "    df_final.drop(columns=['COD_DANE_ANM'], inplace=True)\n",
        "\n",
        "# Mostrar los primeros registros de la base combinada\n",
        "print(\"Primeros registros de la base combinada:\")\n",
        "print(df_final.head())\n",
        "\n",
        "# Guardar el DataFrame combinado en un archivo CSV\n",
        "ruta_guardado_merged = '/content/drive/MyDrive/datathon/filtered_data/base_final.csv'\n",
        "df_final.to_csv(ruta_guardado_merged, index=False)\n",
        "\n",
        "print(f\"Base de datos combinada con la nueva columna 'Indice_Calidad' guardada en {ruta_guardado_merged}.\")\n"
      ],
      "metadata": {
        "colab": {
          "base_uri": "https://localhost:8080/"
        },
        "id": "lDiEYR4RO0Jx",
        "outputId": "9384b39b-1621-43aa-d3fd-3375a62c432c"
      },
      "execution_count": 62,
      "outputs": [
        {
          "output_type": "stream",
          "name": "stdout",
          "text": [
            "Primeros registros de la base combinada:\n",
            "   OBJECTID              COD_DANE_A  DPTO_CCDGO  MPIO_CCDGO  MPIO_CDPMP  \\\n",
            "0     33648  0500110000000001010101           5           1        5001   \n",
            "1     33649  0500110000000001010104           5           1        5001   \n",
            "2     33650  0500110000000001010105           5           1        5001   \n",
            "3     33651  0500110000000001010108           5           1        5001   \n",
            "4     33653  0500110000000001010110           5           1        5001   \n",
            "\n",
            "   CLAS_CCDGO  SETR_CCDGO  SETR_CCNCT  SECR_CCDGO  SECR_CCNCT  ...  \\\n",
            "0           1           0    50011000           0  5001100000  ...   \n",
            "1           1           0    50011000           0  5001100000  ...   \n",
            "2           1           0    50011000           0  5001100000  ...   \n",
            "3           1           0    50011000           0  5001100000  ...   \n",
            "4           1           0    50011000           0  5001100000  ...   \n",
            "\n",
            "   TP51SUPERI  TP51POSTGR  TP51_13_ED  TP51_99_ED  CD_LC_CM NMB_LC_CM  \\\n",
            "0           4           0           4           1         1   Popular   \n",
            "1          12           0          10           6         1   Popular   \n",
            "2          17           0           5           3         1   Popular   \n",
            "3           7           1           8           8         1   Popular   \n",
            "4          10           0           1           3         1   Popular   \n",
            "\n",
            "   TP_LC_CM  Shape_Leng    Shape_Area  Indice_Calidad  \n",
            "0    Comuna    0.003371  2.313260e-07        0.423442  \n",
            "1    Comuna    0.002620  1.629520e-07        0.479146  \n",
            "2    Comuna    0.003002  2.090910e-07        0.469077  \n",
            "3    Comuna    0.001944  1.573090e-07        0.474468  \n",
            "4    Comuna    0.001733  8.559710e-08        0.437765  \n",
            "\n",
            "[5 rows x 110 columns]\n",
            "Base de datos combinada con la nueva columna 'Indice_Calidad' guardada en /content/drive/MyDrive/datathon/filtered_data/base_final.csv.\n"
          ]
        }
      ]
    },
    {
      "cell_type": "code",
      "source": [
        "num_filasfinal = df_final.shape[0]\n",
        "print(f\"La base de datos tiene {num_filasfinal} filas.\")"
      ],
      "metadata": {
        "colab": {
          "base_uri": "https://localhost:8080/"
        },
        "id": "IEW_4D30PU9E",
        "outputId": "83bde0ba-e1db-4446-b5ad-a73d5a6746f0"
      },
      "execution_count": 61,
      "outputs": [
        {
          "output_type": "stream",
          "name": "stdout",
          "text": [
            "La base de datos tiene 12395 filas.\n"
          ]
        }
      ]
    },
    {
      "cell_type": "code",
      "source": [
        "print(df_final.columns)"
      ],
      "metadata": {
        "colab": {
          "base_uri": "https://localhost:8080/"
        },
        "id": "1XVR-tYzy80l",
        "outputId": "ed794ddd-418a-4bdd-c688-7077c17b2a39"
      },
      "execution_count": 63,
      "outputs": [
        {
          "output_type": "stream",
          "name": "stdout",
          "text": [
            "Index(['OBJECTID', 'COD_DANE_A', 'DPTO_CCDGO', 'MPIO_CCDGO', 'MPIO_CDPMP',\n",
            "       'CLAS_CCDGO', 'SETR_CCDGO', 'SETR_CCNCT', 'SECR_CCDGO', 'SECR_CCNCT',\n",
            "       ...\n",
            "       'TP51SUPERI', 'TP51POSTGR', 'TP51_13_ED', 'TP51_99_ED', 'CD_LC_CM',\n",
            "       'NMB_LC_CM', 'TP_LC_CM', 'Shape_Leng', 'Shape_Area', 'Indice_Calidad'],\n",
            "      dtype='object', length=110)\n"
          ]
        }
      ]
    }
  ]
}